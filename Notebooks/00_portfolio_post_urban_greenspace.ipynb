{
 "cells": [
  {
   "cell_type": "markdown",
   "metadata": {},
   "source": [
    "# Urban Greenspace and Depression Prevalence in Denver"
   ]
  },
  {
   "cell_type": "markdown",
   "metadata": {},
   "source": [
    "## Overview"
   ]
  },
  {
   "cell_type": "markdown",
   "metadata": {},
   "source": [
    "## Data Description\n",
    "\n",
    "CDC Places prior to 2020 was known as 500 Cities, so instead of having full \n",
    "coverage across the US including rural areas, it only included 500 cities. \n",
    "While in this phase, the datasets also only included chronic diseases. Since 2020 \n",
    "it has expanded the measures included in the datasets, and these measures included, \n",
    "are increasing each year the datasets are released. It appears new sets of data \n",
    "are released every year rather than old/ previous years' datasets being updated \n",
    "(CDC Places About the Data). \n",
    "\n",
    "If curious about the methodology that CDC Places uses and how the data is validated, \n",
    "please visit [CDC Places methodology](https://www.cdc.gov/places/methodology/index.html).\n",
    "\n",
    "Due this being realted to the Census, which is only done every 10 years, also \n",
    "affects this data in that prior research will need to be done to see what year \n",
    "of the Census the CDC Places data is using. For example, the 2024 CDC Places data \n",
    "is using the 2020 Census, not the 2010 Census like the prior years of the CDC Places \n",
    "data. These datasets also differ by geography type or administrative boundaries. \n",
    "While this project is using Census Tracts as that boundary, there are other options \n",
    "available like U.S. counties, census designated places, and ZIP Code Tabulation Areas \n",
    "(ZCTA's). Depending on the goal of a project would likely change the geography \n",
    "being used. CDC Places data includes all areas of the United States with 50 or \n",
    "more adult residents (CDC Places About the Data).\n",
    "\n",
    "The data itself can be accessed in multiple formats icnluding JSON, GeoJSON, \n",
    "CSV if getting via API. Or, if downloading it can be accessed in even more formats \n",
    "including those listed prior and many others. This is worth exploring and considering \n",
    "depending on what project the data is being used for and how the data will be used.\n",
    "\n",
    "The data is free to access which contributes to Open Data Science efforts. The data \n",
    "is considered public domain and does not require or have a specific license to use \n",
    "or manipulate the data as of 2/2/2025.\n",
    "\n",
    "### Data Citations:\n",
    "\n",
    "Centers for Disease Control and Prevention. PLACES: Local Data for Better Health. Accessed [2/2/2025]. https://www.cdc.gov/places\n",
    "\n",
    "* CDC Places About the Data - https://www.cdc.gov/places/about/index.html\n",
    "* CDC Places acess data here - https://data.cdc.gov/browse?category=500+Cities+%26+Places&q=2024&sortBy=relevance&tags=places\n",
    "(*Note - this link takes you too all the localties and verstions avialable not \n",
    "the specific one used here).\n",
    "* CDC Places data accessed for this project - https://data.cdc.gov/resource/cwsq-ngmh.geojson\n",
    "* CDC Places Methodology - https://www.cdc.gov/places/methodology/index.html\n",
    "* CDC Places Measure Definitions - https://www.cdc.gov/places/measure-definitions/index.html"
   ]
  },
  {
   "cell_type": "markdown",
   "metadata": {},
   "source": [
    "## Methods Description\n",
    "\n",
    "OLS Regression will be used as the model to find out if there is a \n",
    "statistically significant relationship between depression and greenspace.\n",
    "This will be using the variables of % of depression prevalence and \n",
    "vegeation related variables. Models can be used for different purposes \n",
    "in earth data science, one of which is prediction. Here, the goal is to see \n",
    "if the model can predict the depression prevalence accurately. In order to \n",
    "evaluate the model, calculated error could be looked at or calculate \n",
    "R squared which would say what percent of variation in depression prevalence \n",
    "can be explained by the model. However, when choosing a model it is important \n",
    "to take into account assumptions about the data and if the model is appropriate \n",
    "given the data. Some important assumptions about OLS regression are: \n",
    "linearity - assuming there is a linear relationship between the two variables, \n",
    "normally distributed error - data shouldn't have long tails, \n",
    "independence - avoid co-linearity of tightly correlated variables, \n",
    "stationarity - parameters of the model should not vary over time, \n",
    "and complete observations - shouldn't have large amounts of no data \n",
    "values.\n",
    "\n",
    "The data can be manipulated or adjusted to be a better fit. For example:\n",
    "* no data values can be dropped to account for complete observations using .dropna()\n",
    "* log of variables can be taken to make the data more normally distributed and \n",
    "not have long tails using np.log.\n",
    "* normalization/standardization of data to account for the different scales \n",
    "of the variables\n",
    "* Etc.\n",
    "\n",
    "For this project independence and stationairity are not of major concern, but \n",
    "there are no data values, the data has tails, and the two variables do have \n",
    "very different scales, so the data needs to have the fixes done to fit the model.\n",
    "There is a delicate balance of fitting versus overfitting.\n",
    "Potential issues with choosing this model are using the variables given, \n",
    "there may not be a linear relationship and so the results may be quite muddy or \n",
    "not relay that there is a relationship between the variables. Another potential \n",
    "issue is overfitting the model - this would mean making so many or enough \n",
    "adjustments to the data to 'fit it' and it results in the model fitting to \n",
    "the noise having very low error and not much can be relayed of a possible \n",
    "relationship between the variables when this happens. Because overfitting \n",
    "in particular is a worry here, a way to avoid that, is cross validation \n",
    "which will be done later.\n",
    "\n",
    "Personally not having much experience in Earth Data Science and Statistics,\n",
    "I am unfamiliar with other possible models that could be used here. Another \n",
    "one I know of it the Decision Tree Model but would need to do more research \n",
    "if other models would be appropriate here."
   ]
  },
  {
   "cell_type": "markdown",
   "metadata": {},
   "source": [
    "## Site Description\n",
    "\n",
    "### Citations:\n",
    "\n",
    "* https://denverite.com/2018/12/21/denver-socioeconomic-map-shape/\n",
    "\n",
    "*"
   ]
  }
 ],
 "metadata": {
  "language_info": {
   "name": "python"
  }
 },
 "nbformat": 4,
 "nbformat_minor": 2
}
