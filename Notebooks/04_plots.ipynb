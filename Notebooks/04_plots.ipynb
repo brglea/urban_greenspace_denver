{
 "cells": [
  {
   "cell_type": "markdown",
   "metadata": {},
   "source": [
    "# Plots"
   ]
  },
  {
   "cell_type": "code",
   "execution_count": null,
   "metadata": {},
   "outputs": [],
   "source": [
    "# Load variables from the previous notebook\n",
    "%store -r all_den_ndvi_stats_df  den_tract_cdc_gdf"
   ]
  },
  {
   "cell_type": "code",
   "execution_count": null,
   "metadata": {},
   "outputs": [],
   "source": [
    "# Merge census data with geometry\n",
    "den_ndvi_cdc_gdf = (\n",
    "    # Choose gdf that contacins geometry for Census tracts\n",
    "    den_tract_cdc_gdf\n",
    "    # Combine two df's/gdf's based on specified columns\n",
    "    .merge(\n",
    "        # Choose all_ndvi_stats_df - it contains the veg stats for each census tract\n",
    "        all_den_ndvi_stats_df,\n",
    "        # Specify tract2010 column from the tract_cdc_gdf as key for merging\n",
    "        left_on='tract', \n",
    "        # Specify the tract column from the all_ndvi_stats_df as the key for merging\n",
    "        right_on='tract', \n",
    "        # Keep only the rows where there is a matching key in both df/gdf\n",
    "        how='inner')\n",
    ")\n",
    "\n",
    "# Plot chloropleths with vegetation statistics\n",
    "def plot_chloropleth(gdf, **opts):\n",
    "    \"\"\"Generate a chloropleth with the given color column\"\"\"\n",
    "    # Plot polygons based on geometry in gdf\n",
    "    return gv.Polygons(\n",
    "        # Convert CRS of gdf to Mercator \n",
    "        gdf.to_crs(ccrs.Mercator()),\n",
    "        # Define the CRS to use for the map - Mercator\n",
    "        crs=ccrs.Mercator()\n",
    "        # Customize the plot\n",
    "    ).opts(\n",
    "        # Remove the x and y axes from the plot\n",
    "        xaxis=None, yaxis=None, \n",
    "        # Add a colorbar\n",
    "        colorbar=True, \n",
    "        # Any additional options passed when the \n",
    "        # function is called are included\n",
    "        **opts)\n",
    "\n",
    "# Create new variable for plots in order to save them later\n",
    "den_side_by_side_chlorpleths = (\n",
    "(\n",
    "    # First chloropleth for Asthma Prevalence\n",
    "    plot_chloropleth(\n",
    "        # Using the NDVI CDC gdf\n",
    "        den_ndvi_cdc_gdf,\n",
    "        # Specify that the census tracts should be colored based on the asthma column\n",
    "        color='asthma', \n",
    "        # Set label for colorbar\n",
    "        clabel='% of Adult Population',\n",
    "        # Specify the color map to use for coloring the tracts\n",
    "        cmap='viridis',\n",
    "        # Add a title\n",
    "        title= 'Denver Census Tracts - Asthma Prevalence',\n",
    "        width=600, height=600\n",
    "        )\n",
    "    # Overlay the two plots\n",
    "    + \n",
    "    # Second chloropleth for Mean NDVI\n",
    "    plot_chloropleth(\n",
    "        # Using the NDVI CDC gdf\n",
    "        den_ndvi_cdc_gdf, \n",
    "        # Specify that the census tracts should be colored based on the asthma column\n",
    "        color='all_den_edge_density', \n",
    "        # Set label for colorbar\n",
    "        clabel='Mean NDVI',\n",
    "        # Specify the color map to use for coloring the tracts\n",
    "        cmap='Greens',\n",
    "        # Add a title\n",
    "        title= 'Denver Census Tracts - Mean NDVI ',\n",
    "        # Set width and height\n",
    "        width=600, height=600\n",
    "        )\n",
    ")\n",
    ")\n",
    "# Save the plot as html to be able to display online\n",
    "hv.save(den_side_by_side_chlorpleths, 'den_side_by_side_chlorpleths.html') \n",
    "\n",
    "# Display the plots \n",
    "den_side_by_side_chlorpleths"
   ]
  },
  {
   "cell_type": "code",
   "execution_count": null,
   "metadata": {},
   "outputs": [],
   "source": [
    "# Store variables to use in next notebook\n",
    "%store den_ndvi_cdc_gdf den_tract_cdc_gdf"
   ]
  }
 ],
 "metadata": {
  "kernelspec": {
   "display_name": "earth-analytics-python",
   "language": "python",
   "name": "python3"
  },
  "language_info": {
   "name": "python",
   "version": "3.11.11"
  }
 },
 "nbformat": 4,
 "nbformat_minor": 2
}
